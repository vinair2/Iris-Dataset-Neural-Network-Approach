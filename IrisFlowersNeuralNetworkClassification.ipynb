{
 "cells": [
  {
   "cell_type": "markdown",
   "id": "407baeed",
   "metadata": {},
   "source": [
    "# Iris Flowers Classification: Neural Network Approach"
   ]
  },
  {
   "cell_type": "markdown",
   "id": "9ed80dfb",
   "metadata": {},
   "source": [
    "This short project consists of a classification model utilizing a neural network. The neural network is built with keras sequential model with the Adam optimization algorithm. Additionally, there are plots for both training loss and accuracy to benchmark the model over the span of 20 epochs, and a visualization of the predictions made by the model on the test data split."
   ]
  },
  {
   "cell_type": "code",
   "execution_count": 1,
   "id": "77b28dc0",
   "metadata": {},
   "outputs": [
    {
     "name": "stdout",
     "output_type": "stream",
     "text": [
      "WARNING:tensorflow:From C:\\Users\\vinai\\anaconda3\\Lib\\site-packages\\keras\\src\\losses.py:2976: The name tf.losses.sparse_softmax_cross_entropy is deprecated. Please use tf.compat.v1.losses.sparse_softmax_cross_entropy instead.\n",
      "\n"
     ]
    }
   ],
   "source": [
    "# libraries\n",
    "import keras\n",
    "from keras.optimizers import Adam\n",
    "from sklearn.model_selection import train_test_split\n",
    "from sklearn.preprocessing import OneHotEncoder\n",
    "from sklearn.metrics import confusion_matrix\n",
    "import numpy as np\n",
    "import pandas as pd\n",
    "import matplotlib.pyplot as plt\n",
    "import seaborn as sns"
   ]
  },
  {
   "cell_type": "code",
   "execution_count": 2,
   "id": "199cc3d4",
   "metadata": {},
   "outputs": [
    {
     "data": {
      "text/html": [
       "<div>\n",
       "<style scoped>\n",
       "    .dataframe tbody tr th:only-of-type {\n",
       "        vertical-align: middle;\n",
       "    }\n",
       "\n",
       "    .dataframe tbody tr th {\n",
       "        vertical-align: top;\n",
       "    }\n",
       "\n",
       "    .dataframe thead th {\n",
       "        text-align: right;\n",
       "    }\n",
       "</style>\n",
       "<table border=\"1\" class=\"dataframe\">\n",
       "  <thead>\n",
       "    <tr style=\"text-align: right;\">\n",
       "      <th></th>\n",
       "      <th>Sepal_Length</th>\n",
       "      <th>Sepal_Width</th>\n",
       "      <th>Petal_Length</th>\n",
       "      <th>Petal_Width</th>\n",
       "      <th>Variety</th>\n",
       "    </tr>\n",
       "  </thead>\n",
       "  <tbody>\n",
       "    <tr>\n",
       "      <th>0</th>\n",
       "      <td>5.1</td>\n",
       "      <td>3.5</td>\n",
       "      <td>1.4</td>\n",
       "      <td>0.2</td>\n",
       "      <td>Setosa</td>\n",
       "    </tr>\n",
       "    <tr>\n",
       "      <th>1</th>\n",
       "      <td>4.9</td>\n",
       "      <td>3.0</td>\n",
       "      <td>1.4</td>\n",
       "      <td>0.2</td>\n",
       "      <td>Setosa</td>\n",
       "    </tr>\n",
       "    <tr>\n",
       "      <th>2</th>\n",
       "      <td>4.7</td>\n",
       "      <td>3.2</td>\n",
       "      <td>1.3</td>\n",
       "      <td>0.2</td>\n",
       "      <td>Setosa</td>\n",
       "    </tr>\n",
       "    <tr>\n",
       "      <th>3</th>\n",
       "      <td>4.6</td>\n",
       "      <td>3.1</td>\n",
       "      <td>1.5</td>\n",
       "      <td>0.2</td>\n",
       "      <td>Setosa</td>\n",
       "    </tr>\n",
       "    <tr>\n",
       "      <th>4</th>\n",
       "      <td>5.0</td>\n",
       "      <td>3.6</td>\n",
       "      <td>1.4</td>\n",
       "      <td>0.2</td>\n",
       "      <td>Setosa</td>\n",
       "    </tr>\n",
       "  </tbody>\n",
       "</table>\n",
       "</div>"
      ],
      "text/plain": [
       "   Sepal_Length  Sepal_Width  Petal_Length  Petal_Width Variety\n",
       "0           5.1          3.5           1.4          0.2  Setosa\n",
       "1           4.9          3.0           1.4          0.2  Setosa\n",
       "2           4.7          3.2           1.3          0.2  Setosa\n",
       "3           4.6          3.1           1.5          0.2  Setosa\n",
       "4           5.0          3.6           1.4          0.2  Setosa"
      ]
     },
     "execution_count": 2,
     "metadata": {},
     "output_type": "execute_result"
    }
   ],
   "source": [
    "df = pd.read_csv('IrisFlowersDataset.csv')\n",
    "df.head()"
   ]
  },
  {
   "cell_type": "code",
   "execution_count": 3,
   "id": "a24b3b1c",
   "metadata": {},
   "outputs": [],
   "source": [
    "# Splitting Dataset into Train / Test\n",
    "x = df.iloc[:, 0:4]\n",
    "y = df.iloc[:,4]\n",
    "x = x.values\n",
    "\n",
    "# One hot encode Varities of Iris into integers\n",
    "encoder = OneHotEncoder(sparse_output=False)\n",
    "y = encoder.fit_transform(y.values.reshape(-1, 1))\n",
    "\n",
    "# Test Split\n",
    "x_train, x_test, y_train, y_test = train_test_split(x, y, test_size=0.3, random_state=42)"
   ]
  },
  {
   "cell_type": "code",
   "execution_count": 4,
   "id": "fd08f8df",
   "metadata": {},
   "outputs": [
    {
     "name": "stdout",
     "output_type": "stream",
     "text": [
      "WARNING:tensorflow:From C:\\Users\\vinai\\anaconda3\\Lib\\site-packages\\keras\\src\\backend.py:873: The name tf.get_default_graph is deprecated. Please use tf.compat.v1.get_default_graph instead.\n",
      "\n"
     ]
    }
   ],
   "source": [
    "# Neural Network Model using Keras-Sequential Model\n",
    "model = keras.Sequential(\n",
    "    [\n",
    "        keras.layers.Dense(4, input_shape=(4,), activation=\"relu\", name=\"layer1\"),\n",
    "        keras.layers.Dense(3, activation=\"softmax\", name=\"outputLayer\")\n",
    "    ]\n",
    ")\n",
    "\n",
    "# Configuration and Compiling\n",
    "model.compile(\n",
    "    optimizer=Adam(learning_rate=0.01),\n",
    "    loss=\"categorical_crossentropy\",\n",
    "    metrics=[\"accuracy\"]\n",
    ")"
   ]
  },
  {
   "cell_type": "code",
   "execution_count": 5,
   "id": "f7d80dd2",
   "metadata": {
    "scrolled": true
   },
   "outputs": [
    {
     "name": "stdout",
     "output_type": "stream",
     "text": [
      "Epoch 1/20\n",
      "WARNING:tensorflow:From C:\\Users\\vinai\\anaconda3\\Lib\\site-packages\\keras\\src\\utils\\tf_utils.py:492: The name tf.ragged.RaggedTensorValue is deprecated. Please use tf.compat.v1.ragged.RaggedTensorValue instead.\n",
      "\n",
      "WARNING:tensorflow:From C:\\Users\\vinai\\anaconda3\\Lib\\site-packages\\keras\\src\\engine\\base_layer_utils.py:384: The name tf.executing_eagerly_outside_functions is deprecated. Please use tf.compat.v1.executing_eagerly_outside_functions instead.\n",
      "\n",
      "5/5 [==============================] - 1s 4ms/step - loss: 1.1410 - accuracy: 0.3524\n",
      "Epoch 2/20\n",
      "5/5 [==============================] - 0s 2ms/step - loss: 1.0221 - accuracy: 0.4571\n",
      "Epoch 3/20\n",
      "5/5 [==============================] - 0s 4ms/step - loss: 1.0000 - accuracy: 0.3524\n",
      "Epoch 4/20\n",
      "5/5 [==============================] - 0s 4ms/step - loss: 0.9675 - accuracy: 0.3524\n",
      "Epoch 5/20\n",
      "5/5 [==============================] - 0s 4ms/step - loss: 0.9309 - accuracy: 0.3524\n",
      "Epoch 6/20\n",
      "5/5 [==============================] - 0s 0s/step - loss: 0.8838 - accuracy: 0.4571\n",
      "Epoch 7/20\n",
      "5/5 [==============================] - 0s 3ms/step - loss: 0.8393 - accuracy: 0.7619\n",
      "Epoch 8/20\n",
      "5/5 [==============================] - 0s 0s/step - loss: 0.7961 - accuracy: 0.6667\n",
      "Epoch 9/20\n",
      "5/5 [==============================] - 0s 527us/step - loss: 0.7447 - accuracy: 0.6571\n",
      "Epoch 10/20\n",
      "5/5 [==============================] - 0s 0s/step - loss: 0.7011 - accuracy: 0.6571\n",
      "Epoch 11/20\n",
      "5/5 [==============================] - 0s 469us/step - loss: 0.6562 - accuracy: 0.6762\n",
      "Epoch 12/20\n",
      "5/5 [==============================] - 0s 2ms/step - loss: 0.6168 - accuracy: 0.6667\n",
      "Epoch 13/20\n",
      "5/5 [==============================] - 0s 3ms/step - loss: 0.5812 - accuracy: 0.7333\n",
      "Epoch 14/20\n",
      "5/5 [==============================] - 0s 2ms/step - loss: 0.5500 - accuracy: 0.8476\n",
      "Epoch 15/20\n",
      "5/5 [==============================] - 0s 3ms/step - loss: 0.5229 - accuracy: 0.8667\n",
      "Epoch 16/20\n",
      "5/5 [==============================] - 0s 2ms/step - loss: 0.4979 - accuracy: 0.8952\n",
      "Epoch 17/20\n",
      "5/5 [==============================] - 0s 2ms/step - loss: 0.4771 - accuracy: 0.8857\n",
      "Epoch 18/20\n",
      "5/5 [==============================] - 0s 2ms/step - loss: 0.4570 - accuracy: 0.8762\n",
      "Epoch 19/20\n",
      "5/5 [==============================] - 0s 3ms/step - loss: 0.4399 - accuracy: 0.9524\n",
      "Epoch 20/20\n",
      "5/5 [==============================] - 0s 2ms/step - loss: 0.4228 - accuracy: 0.9619\n"
     ]
    }
   ],
   "source": [
    "# Fiting The Model\n",
    "epochData = model.fit(\n",
    "    x_train,\n",
    "    y_train, \n",
    "    epochs=20, \n",
    "    shuffle=True,\n",
    "    batch_size=21\n",
    ")"
   ]
  },
  {
   "cell_type": "code",
   "execution_count": 6,
   "id": "35e39b7a",
   "metadata": {
    "scrolled": true
   },
   "outputs": [
    {
     "name": "stdout",
     "output_type": "stream",
     "text": [
      "Model: \"sequential\"\n",
      "_________________________________________________________________\n",
      " Layer (type)                Output Shape              Param #   \n",
      "=================================================================\n",
      " layer1 (Dense)              (None, 4)                 20        \n",
      "                                                                 \n",
      " outputLayer (Dense)         (None, 3)                 15        \n",
      "                                                                 \n",
      "=================================================================\n",
      "Total params: 35 (140.00 Byte)\n",
      "Trainable params: 35 (140.00 Byte)\n",
      "Non-trainable params: 0 (0.00 Byte)\n",
      "_________________________________________________________________\n"
     ]
    }
   ],
   "source": [
    "# Summary of Model\n",
    "model.summary()"
   ]
  },
  {
   "cell_type": "code",
   "execution_count": 7,
   "id": "00cb09b8",
   "metadata": {},
   "outputs": [
    {
     "data": {
      "image/png": "[encoded data removed]",
      "text/plain": [
       "<Figure size 1000x500 with 2 Axes>"
      ]
     },
     "metadata": {},
     "output_type": "display_data"
    }
   ],
   "source": [
    "# Plotting Learning Curve of Model\n",
    "loss_values = epochData.history['loss']\n",
    "accuracy_values = epochData.history['accuracy']\n",
    "\n",
    "# Number of epochs\n",
    "epochs = range(1, len(loss_values) + 1)\n",
    "\n",
    "# Plotting the training loss\n",
    "plt.figure(figsize=(10, 5))\n",
    "plt.subplot(1, 2, 1)\n",
    "plt.plot(\n",
    "    epochs, \n",
    "    loss_values, 'bo-', \n",
    "    label='Training loss'\n",
    ")\n",
    "plt.title('Training Loss')\n",
    "plt.xlabel('Epoch')\n",
    "plt.xticks(np.arange(0,21,2))\n",
    "plt.ylabel('Loss')\n",
    "\n",
    "# Plotting the training accuracy\n",
    "plt.subplot(1, 2, 2)\n",
    "plt.plot(\n",
    "    epochs, \n",
    "    accuracy_values, \n",
    "    'ro-', \n",
    "    label='Training accuracy'\n",
    ")\n",
    "plt.title('Training Accuracy')\n",
    "plt.xlabel('Epoch')\n",
    "plt.xticks(np.arange(0,21,2))\n",
    "plt.ylabel('Accuracy')\n",
    "\n",
    "plt.tight_layout()\n",
    "plt.show()"
   ]
  },
  {
   "cell_type": "code",
   "execution_count": 8,
   "id": "08a1f00b",
   "metadata": {},
   "outputs": [
    {
     "name": "stdout",
     "output_type": "stream",
     "text": [
      "2/2 [==============================] - 0s 20ms/step - loss: 0.3434 - accuracy: 0.9778\n"
     ]
    },
    {
     "data": {
      "text/plain": [
       "[0.34336352348327637, 0.9777777791023254]"
      ]
     },
     "execution_count": 8,
     "metadata": {},
     "output_type": "execute_result"
    }
   ],
   "source": [
    "model.evaluate(x_test, y_test)"
   ]
  },
  {
   "cell_type": "code",
   "execution_count": 9,
   "id": "4616ee4d",
   "metadata": {},
   "outputs": [
    {
     "name": "stdout",
     "output_type": "stream",
     "text": [
      "2/2 [==============================] - 0s 0s/step\n"
     ]
    }
   ],
   "source": [
    "# Predictions, Changing Format\n",
    "pred=model.predict(x_test)\n",
    "predData=np.argmax(pred, axis=1)\n",
    "yData=np.argmax(y_test, axis=1)"
   ]
  },
  {
   "cell_type": "code",
   "execution_count": 10,
   "id": "23172c5f",
   "metadata": {
    "scrolled": true
   },
   "outputs": [
    {
     "name": "stdout",
     "output_type": "stream",
     "text": [
      "Variety:     Predicted:\n",
      "----------------------\n",
      "Versicolor Versicolor \n",
      "Setosa     Setosa \n",
      "Virginica  Virginica \n",
      "Versicolor Versicolor \n",
      "Versicolor Versicolor \n",
      "Setosa     Setosa \n",
      "Versicolor Versicolor \n",
      "Virginica  Virginica \n",
      "Versicolor Virginica <-- Incorrect\n",
      "Versicolor Versicolor \n",
      "Virginica  Virginica \n",
      "Setosa     Setosa \n",
      "Setosa     Setosa \n",
      "Setosa     Setosa \n",
      "Setosa     Setosa \n",
      "Versicolor Versicolor \n",
      "Virginica  Virginica \n",
      "Versicolor Versicolor \n",
      "Versicolor Versicolor \n",
      "Virginica  Virginica \n",
      "Setosa     Setosa \n",
      "Virginica  Virginica \n",
      "Setosa     Setosa \n",
      "Virginica  Virginica \n",
      "Virginica  Virginica \n",
      "Virginica  Virginica \n",
      "Virginica  Virginica \n",
      "Virginica  Virginica \n",
      "Setosa     Setosa \n",
      "Setosa     Setosa \n",
      "Setosa     Setosa \n",
      "Setosa     Setosa \n",
      "Versicolor Versicolor \n",
      "Setosa     Setosa \n",
      "Setosa     Setosa \n",
      "Virginica  Virginica \n",
      "Versicolor Versicolor \n",
      "Setosa     Setosa \n",
      "Setosa     Setosa \n",
      "Setosa     Setosa \n",
      "Virginica  Virginica \n",
      "Versicolor Versicolor \n",
      "Versicolor Versicolor \n",
      "Setosa     Setosa \n",
      "Setosa     Setosa \n"
     ]
    }
   ],
   "source": [
    "# Prettier Formatting for Predictions\n",
    "varietyMapping = {\n",
    "    0: \"Setosa\",\n",
    "    1: \"Versicolor\",\n",
    "    2: \"Virginica\"\n",
    "}\n",
    "\n",
    "# Printing in a tabular format\n",
    "print(\"Variety:     Predicted:\")\n",
    "print(\"----------------------\")\n",
    "for pred, actual in zip(predData, yData):\n",
    "    predClass = varietyMapping.get(pred)\n",
    "    actualClass = varietyMapping.get(actual)\n",
    "    incorrect=\"\"\n",
    "    if predClass!=actualClass:\n",
    "        incorrect=\"<-- Incorrect\"\n",
    "    print(f\"{actualClass:<10} {predClass} {incorrect}\")"
   ]
  },
  {
   "cell_type": "code",
   "execution_count": 11,
   "id": "323f2aa9",
   "metadata": {},
   "outputs": [
    {
     "data": {
      "image/png": "[encoded data removed]",
      "text/plain": [
       "<Figure size 800x600 with 2 Axes>"
      ]
     },
     "metadata": {},
     "output_type": "display_data"
    }
   ],
   "source": [
    "# Confusion Matrix Heatmap\n",
    "cm = confusion_matrix(yData, predData)\n",
    "plt.figure(figsize=(8, 6))\n",
    "sns.heatmap(\n",
    "    cm, \n",
    "    annot=True, \n",
    "    cmap='RdYlGn', \n",
    "    fmt='d', \n",
    "    xticklabels=varietyMapping.values(), \n",
    "    yticklabels=varietyMapping.values()\n",
    ")\n",
    "plt.xlabel('Predicted')\n",
    "plt.ylabel('Actual')\n",
    "plt.title('Confusion Matrix')\n",
    "plt.show()"
   ]
  }
 ],
 "metadata": {
  "kernelspec": {
   "display_name": "Python 3 (ipykernel)",
   "language": "python",
   "name": "python3"
  },
  "language_info": {
   "codemirror_mode": {
    "name": "ipython",
    "version": 3
   },
   "file_extension": ".py",
   "mimetype": "text/x-python",
   "name": "python",
   "nbconvert_exporter": "python",
   "pygments_lexer": "ipython3",
   "version": "3.11.5"
  }
 },
 "nbformat": 4,
 "nbformat_minor": 5
}
