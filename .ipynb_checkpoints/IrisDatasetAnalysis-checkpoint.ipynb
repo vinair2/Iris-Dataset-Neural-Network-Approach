{
 "cells": [
  {
   "cell_type": "markdown",
   "id": "0d76bf51",
   "metadata": {},
   "source": [
    "# Analysis of Iris Flowers Dataset using SQLite and Visualization Libraries"
   ]
  },
  {
   "cell_type": "markdown",
   "id": "4c5de8b2",
   "metadata": {},
   "source": [
    "The following is an analysis of Iris Flowers Dataset utilzing SQLite and SQL queries for data managemnet and retirval. Additonally includes several plots that were created using Matplotlib and Seaborn."
   ]
  },
  {
   "cell_type": "code",
   "execution_count": 1,
   "id": "06ecbdf0",
   "metadata": {},
   "outputs": [],
   "source": [
    "# Libraries\n",
    "import sqlite3\n",
    "import pandas as pd\n",
    "import matplotlib.pyplot as plt\n",
    "from tabulate import tabulate\n",
    "import numpy as np\n",
    "import seaborn as sns\n",
    "import re"
   ]
  },
  {
   "cell_type": "code",
   "execution_count": 2,
   "id": "55f07a4a",
   "metadata": {
    "scrolled": false
   },
   "outputs": [
    {
     "data": {
      "text/html": [
       "<div>\n",
       "<style scoped>\n",
       "    .dataframe tbody tr th:only-of-type {\n",
       "        vertical-align: middle;\n",
       "    }\n",
       "\n",
       "    .dataframe tbody tr th {\n",
       "        vertical-align: top;\n",
       "    }\n",
       "\n",
       "    .dataframe thead th {\n",
       "        text-align: right;\n",
       "    }\n",
       "</style>\n",
       "<table border=\"1\" class=\"dataframe\">\n",
       "  <thead>\n",
       "    <tr style=\"text-align: right;\">\n",
       "      <th></th>\n",
       "      <th>Sepal_Length</th>\n",
       "      <th>Sepal_Width</th>\n",
       "      <th>Petal_Length</th>\n",
       "      <th>Petal_Width</th>\n",
       "      <th>Variety</th>\n",
       "    </tr>\n",
       "  </thead>\n",
       "  <tbody>\n",
       "    <tr>\n",
       "      <th>0</th>\n",
       "      <td>5.1</td>\n",
       "      <td>3.5</td>\n",
       "      <td>1.4</td>\n",
       "      <td>0.2</td>\n",
       "      <td>Setosa</td>\n",
       "    </tr>\n",
       "    <tr>\n",
       "      <th>1</th>\n",
       "      <td>4.9</td>\n",
       "      <td>3.0</td>\n",
       "      <td>1.4</td>\n",
       "      <td>0.2</td>\n",
       "      <td>Setosa</td>\n",
       "    </tr>\n",
       "    <tr>\n",
       "      <th>2</th>\n",
       "      <td>4.7</td>\n",
       "      <td>3.2</td>\n",
       "      <td>1.3</td>\n",
       "      <td>0.2</td>\n",
       "      <td>Setosa</td>\n",
       "    </tr>\n",
       "    <tr>\n",
       "      <th>3</th>\n",
       "      <td>4.6</td>\n",
       "      <td>3.1</td>\n",
       "      <td>1.5</td>\n",
       "      <td>0.2</td>\n",
       "      <td>Setosa</td>\n",
       "    </tr>\n",
       "    <tr>\n",
       "      <th>4</th>\n",
       "      <td>5.0</td>\n",
       "      <td>3.6</td>\n",
       "      <td>1.4</td>\n",
       "      <td>0.2</td>\n",
       "      <td>Setosa</td>\n",
       "    </tr>\n",
       "  </tbody>\n",
       "</table>\n",
       "</div>"
      ],
      "text/plain": [
       "   Sepal_Length  Sepal_Width  Petal_Length  Petal_Width Variety\n",
       "0           5.1          3.5           1.4          0.2  Setosa\n",
       "1           4.9          3.0           1.4          0.2  Setosa\n",
       "2           4.7          3.2           1.3          0.2  Setosa\n",
       "3           4.6          3.1           1.5          0.2  Setosa\n",
       "4           5.0          3.6           1.4          0.2  Setosa"
      ]
     },
     "execution_count": 2,
     "metadata": {},
     "output_type": "execute_result"
    }
   ],
   "source": [
    "df = pd.read_csv('IrisFlowersDataset.csv')\n",
    "df.head()"
   ]
  },
  {
   "cell_type": "code",
   "execution_count": 3,
   "id": "d5c79022",
   "metadata": {},
   "outputs": [
    {
     "data": {
      "text/plain": [
       "150"
      ]
     },
     "execution_count": 3,
     "metadata": {},
     "output_type": "execute_result"
    }
   ],
   "source": [
    "# Connect\n",
    "conn = sqlite3.connect('IrisFlowers.db')\n",
    "df.to_sql('IrisFlowersTable', conn, if_exists='replace', index=False)"
   ]
  },
  {
   "cell_type": "code",
   "execution_count": 4,
   "id": "e0861eba",
   "metadata": {
    "scrolled": false
   },
   "outputs": [
    {
     "name": "stdout",
     "output_type": "stream",
     "text": [
      "   Min_Sepal_Length  Max_Sepal_Length  Avg_Sepal_Length  Median_Sepal_Length  \\\n",
      "0               4.3               7.9          5.843333                  5.8   \n",
      "\n",
      "   Min_Sepal_Width  Max_Sepal_Width  Avg_Sepal_Width  Median_Sepal_Width  \\\n",
      "0              2.0              4.4         3.057333                 3.0   \n",
      "\n",
      "   Min_Petal_Length  Max_Petal_Length  Avg_Petal_Length  Median_Petal_Length  \\\n",
      "0               1.0               6.9             3.758                  4.4   \n",
      "\n",
      "   Min_Petal_Width  Max_Petal_Width  Avg_Petal_Width  Median_Petal_Width  \n",
      "0              0.1              2.5         1.199333                 1.3  \n"
     ]
    }
   ],
   "source": [
    "# Query to get Iris Data Summary\n",
    "irisDataSummary = pd.read_sql_query('''\n",
    "    SELECT \n",
    "        MIN(Sepal_Length) AS Min_Sepal_Length,\n",
    "        MAX(Sepal_Length) AS Max_Sepal_Length,\n",
    "        AVG(Sepal_Length) AS Avg_Sepal_Length,\n",
    "        (SELECT Sepal_Length\n",
    "         FROM IrisFlowersTable\n",
    "         ORDER BY Sepal_Length\n",
    "         LIMIT 1 OFFSET (SELECT COUNT(*) / 2 FROM IrisFlowersTable)) AS Median_Sepal_Length,\n",
    "        MIN(Sepal_Width) AS Min_Sepal_Width,\n",
    "        MAX(Sepal_Width) AS Max_Sepal_Width,\n",
    "        AVG(Sepal_Width) AS Avg_Sepal_Width,\n",
    "        (SELECT Sepal_Width\n",
    "         FROM IrisFlowersTable\n",
    "         ORDER BY Sepal_Width\n",
    "         LIMIT 1 OFFSET (SELECT COUNT(*) / 2 FROM IrisFlowersTable)) AS Median_Sepal_Width,\n",
    "        MIN(Petal_Length) AS Min_Petal_Length,\n",
    "        MAX(Petal_Length) AS Max_Petal_Length,\n",
    "        AVG(Petal_Length) AS Avg_Petal_Length,\n",
    "        (SELECT Petal_Length\n",
    "         FROM IrisFlowersTable\n",
    "         ORDER BY Petal_Length\n",
    "         LIMIT 1 OFFSET (SELECT COUNT(*) / 2 FROM IrisFlowersTable)) AS Median_Petal_Length,\n",
    "        MIN(Petal_Width) AS Min_Petal_Width,\n",
    "        MAX(Petal_Width) AS Max_Petal_Width,\n",
    "        AVG(Petal_Width) AS Avg_Petal_Width,\n",
    "        (SELECT Petal_Width\n",
    "         FROM IrisFlowersTable\n",
    "         ORDER BY Petal_Width\n",
    "         LIMIT 1 OFFSET (SELECT COUNT(*) / 2 FROM IrisFlowersTable)) AS Median_Petal_Width\n",
    "    FROM IrisFlowersTable;\n",
    "''', conn)"
   ]
  },
  {
   "cell_type": "code",
   "execution_count": 24,
   "id": "8707f6cb",
   "metadata": {},
   "outputs": [
    {
     "name": "stdout",
     "output_type": "stream",
     "text": [
      "\n",
      "Summary for sepal length:\n",
      "\n",
      "+-----+-----+------+--------+\n",
      "| Min | Max | Avg  | Median |\n",
      "+-----+-----+------+--------+\n",
      "| 4.3 | 7.9 | 5.84 |  5.8   |\n",
      "+-----+-----+------+--------+\n",
      "\n",
      "Summary for sepal width:\n",
      "\n",
      "+-----+-----+------+--------+\n",
      "| Min | Max | Avg  | Median |\n",
      "+-----+-----+------+--------+\n",
      "| 2.0 | 4.4 | 3.06 |  3.0   |\n",
      "+-----+-----+------+--------+\n",
      "\n",
      "Summary for petal length:\n",
      "\n",
      "+-----+-----+------+--------+\n",
      "| Min | Max | Avg  | Median |\n",
      "+-----+-----+------+--------+\n",
      "| 1.0 | 6.9 | 3.76 |  4.4   |\n",
      "+-----+-----+------+--------+\n",
      "\n",
      "Summary for petal width:\n",
      "\n",
      "+-----+-----+-----+--------+\n",
      "| Min | Max | Avg | Median |\n",
      "+-----+-----+-----+--------+\n",
      "| 0.1 | 2.5 | 1.2 |  1.3   |\n",
      "+-----+-----+-----+--------+\n"
     ]
    }
   ],
   "source": [
    "# Regex to filter each category\n",
    "sepalLengthPattern = re.compile(r'.*Sepal_Length$')\n",
    "sepalWidthPattern = re.compile(r'.*Sepal_Width$')\n",
    "petalLengthPattern = re.compile(r'.*Petal_Length$')\n",
    "petalWidthPattern = re.compile(r'.*Petal_Width$')\n",
    "\n",
    "# Auxiliary Functions\n",
    "def filterSummary(summary, pattern):\n",
    "    return summary.filter(regex=pattern, axis=1)\n",
    "\n",
    "def displayTable(summary, category):\n",
    "    print(f\"\\nSummary for {category}:\\n\")\n",
    "    summary.columns = ['Min', 'Max', 'Avg', 'Median']\n",
    "    summary.loc[:, 'Avg'] = summary['Avg'].round(2)\n",
    "    print(tabulate(summary, headers='keys', tablefmt='pretty', showindex=False))\n",
    "\n",
    "# Filter Iris Data Summary with regex\n",
    "sepalLengthSummary = filterSummary(irisDataSummary, sepalLengthPattern)\n",
    "sepalWidthSummary = filterSummary(irisDataSummary, sepalWidthPattern)\n",
    "petalLengthSummary = filterSummary(irisDataSummary, petalLengthPattern)\n",
    "petalWidthSummary = filterSummary(irisDataSummary, petalWidthPattern)\n",
    "\n",
    "# Display Tables\n",
    "displayTable(sepalLengthSummary, 'sepal length')\n",
    "displayTable(sepalWidthSummary, 'sepal width')\n",
    "displayTable(petalLengthSummary, 'petal length')\n",
    "displayTable(petalWidthSummary, 'petal width')"
   ]
  },
  {
   "cell_type": "code",
   "execution_count": 16,
   "id": "132729a7",
   "metadata": {
    "scrolled": false
   },
   "outputs": [
    {
     "name": "stdout",
     "output_type": "stream",
     "text": [
      "Setosa Description\n",
      "\n",
      "       Sepal_Length  Sepal_Width  Petal_Length  Petal_Width\n",
      "count      50.00000    50.000000     50.000000    50.000000\n",
      "mean        5.00600     3.428000      1.462000     0.246000\n",
      "std         0.35249     0.379064      0.173664     0.105386\n",
      "min         4.30000     2.300000      1.000000     0.100000\n",
      "25%         4.80000     3.200000      1.400000     0.200000\n",
      "50%         5.00000     3.400000      1.500000     0.200000\n",
      "75%         5.20000     3.675000      1.575000     0.300000\n",
      "max         5.80000     4.400000      1.900000     0.600000\n"
     ]
    }
   ],
   "source": [
    "setosa = pd.read_sql_query(\"SELECT * FROM IrisFlowersTable WHERE Variety LIKE '%Setosa%'\", conn)\n",
    "print(\"Setosa Description\\n\")\n",
    "print(setosa.describe())"
   ]
  },
  {
   "cell_type": "code",
   "execution_count": null,
   "id": "00012869",
   "metadata": {},
   "outputs": [],
   "source": [
    "versicolor = pd.read_sql_query(\"SELECT * FROM IrisFlowersTable WHERE Variety LIKE '%Versicolor%'\", conn)\n",
    "print(\"Versicolor Description\\n\")\n",
    "print(versicolor.describe())"
   ]
  },
  {
   "cell_type": "code",
   "execution_count": null,
   "id": "a2dfb9d7",
   "metadata": {},
   "outputs": [],
   "source": [
    "virginica = pd.read_sql_query(\"SELECT * FROM IrisFlowersTable WHERE Variety LIKE '%Virginica%'\", conn)\n",
    "print(\"Virginica Description\\n\")\n",
    "print(virginica.describe())"
   ]
  },
  {
   "cell_type": "code",
   "execution_count": null,
   "id": "6f460238",
   "metadata": {},
   "outputs": [],
   "source": [
    "sepalComparison = pd.read_sql_query('''\n",
    "    SELECT Variety, AVG(Sepal_Length) AS Avg_Sepal_Length, AVG(Sepal_Width) AS Avg_Sepal_Width\n",
    "    FROM IrisFlowersTable\n",
    "    GROUP BY Variety;\n",
    "''', conn)"
   ]
  },
  {
   "cell_type": "code",
   "execution_count": null,
   "id": "730ac77e",
   "metadata": {},
   "outputs": [],
   "source": [
    "#Avaerage Sepal Length and Width By Variety Plot\n",
    "varieties = sepalComparison['Variety']\n",
    "avg_sepal_length = sepalComparison['Avg_Sepal_Length']\n",
    "avg_sepal_width = sepalComparison['Avg_Sepal_Width']\n",
    "plt.figure(figsize=(8, 6))\n",
    "plt.bar(varieties, avg_sepal_length, label='Avg Sepal Length')\n",
    "plt.bar(varieties, avg_sepal_width, label='Avg Sepal Width', alpha=0.5)\n",
    "plt.xlabel('Variety')\n",
    "plt.ylabel('Average Measurement in Centimeters (cm)')\n",
    "plt.title('Average Sepal Length and Width by Variety')\n",
    "plt.legend()\n",
    "plt.xticks(rotation=45)  \n",
    "plt.tight_layout()"
   ]
  },
  {
   "cell_type": "code",
   "execution_count": null,
   "id": "09bd8eda",
   "metadata": {},
   "outputs": [],
   "source": [
    "petalComparison = pd.read_sql_query('''\n",
    "    SELECT Variety, AVG(Petal_Length) AS Avg_Petal_Length, AVG(Petal_Width) AS Avg_Petal_Width\n",
    "    FROM IrisFlowersTable\n",
    "    GROUP BY Variety;\n",
    "''', conn)"
   ]
  },
  {
   "cell_type": "code",
   "execution_count": null,
   "id": "39a1a2da",
   "metadata": {},
   "outputs": [],
   "source": [
    "#Avaerage Sepal Length and Width By Variety Plot\n",
    "varieties = petalComparison['Variety']\n",
    "avg_petal_length = petalComparison['Avg_Petal_Length']\n",
    "avg_petal_width = petalComparison['Avg_Petal_Width']\n",
    "plt.figure(figsize=(8, 6))\n",
    "plt.bar(varieties, avg_petal_length, label='Avg Petal Length')\n",
    "plt.bar(varieties, avg_petal_width, label='Avg Petal Width', alpha=0.5)\n",
    "plt.xlabel('Variety')\n",
    "plt.ylabel('Average Measurement in Centimeters (cm)')\n",
    "plt.title('Average Petal Length and Width by Variety')\n",
    "plt.legend()\n",
    "plt.xticks(rotation=45)  \n",
    "plt.tight_layout()"
   ]
  },
  {
   "cell_type": "code",
   "execution_count": null,
   "id": "c11abf49",
   "metadata": {},
   "outputs": [],
   "source": [
    "#Heat Map\n",
    "heatMapCols = df.iloc[:, :-1]\n",
    "corr = heatMapCols.corr()\n",
    "sns.heatmap(corr, annot=True)\n",
    "plt.title('Correlation Heatmap')\n",
    "plt.show()"
   ]
  },
  {
   "cell_type": "code",
   "execution_count": null,
   "id": "d23630df",
   "metadata": {},
   "outputs": [],
   "source": [
    "#Pair Plots for Iris Varieties\n",
    "plt.figure(figsize=(10, 10))\n",
    "sns.pairplot(df, hue='Variety', aspect=1)\n",
    "plt.suptitle(\"Pair Plots for Iris Varieties\")\n",
    "plt.show()"
   ]
  },
  {
   "cell_type": "code",
   "execution_count": null,
   "id": "32feb260",
   "metadata": {},
   "outputs": [],
   "source": []
  }
 ],
 "metadata": {
  "kernelspec": {
   "display_name": "Python 3 (ipykernel)",
   "language": "python",
   "name": "python3"
  },
  "language_info": {
   "codemirror_mode": {
    "name": "ipython",
    "version": 3
   },
   "file_extension": ".py",
   "mimetype": "text/x-python",
   "name": "python",
   "nbconvert_exporter": "python",
   "pygments_lexer": "ipython3",
   "version": "3.11.5"
  }
 },
 "nbformat": 4,
 "nbformat_minor": 5
}
